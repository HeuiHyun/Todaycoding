{
 "cells": [
  {
   "cell_type": "code",
   "execution_count": 10,
   "metadata": {},
   "outputs": [],
   "source": [
    "from bs4 import BeautifulSoup\n",
    "import requests as req\n",
    "import pandas as pd\n",
    "import urllib.request\n",
    "from tabulate import tabulate"
   ]
  },
  {
   "cell_type": "code",
   "execution_count": 3,
   "metadata": {},
   "outputs": [],
   "source": [
    "res = req.get(\"http://comp.fnguide.com/SVO2/ASP/SVD_Finance.asp?pGB=1&gicode=A005930\")\n",
    "soup = BeautifulSoup(res.content,\"lxml\")"
   ]
  },
  {
   "cell_type": "code",
   "execution_count": 4,
   "metadata": {},
   "outputs": [],
   "source": [
    "table= soup.find_all('table')"
   ]
  },
  {
   "cell_type": "code",
   "execution_count": 6,
   "metadata": {},
   "outputs": [],
   "source": [
    "df= pd.read_html(str(table))"
   ]
  },
  {
   "cell_type": "code",
   "execution_count": 13,
   "metadata": {},
   "outputs": [
    {
     "name": "stdout",
     "output_type": "stream",
     "text": [
      "+----+------------------------------------------------------------------+-----------+-----------+-----------+-----------+------------+---------------+\n",
      "|    | IFRS(연결)                                                       |   2019/12 |   2020/03 |   2020/06 |   2020/09 |   전년동기 |   전년동기(%) |\n",
      "|----+------------------------------------------------------------------+-----------+-----------+-----------+-----------+------------+---------------|\n",
      "|  0 | 매출액                                                           |    598848 |    553252 |    529661 |    669642 |     620035 |           8   |\n",
      "|  1 | 매출원가                                                         |    385545 |    348067 |    319062 |    399705 |     399939 |          -0.1 |\n",
      "|  2 | 매출총이익                                                       |    213302 |    205185 |    210599 |    269937 |     220096 |          22.6 |\n",
      "|  3 | 판매비와관리비계산에 참여한 계정 펼치기                          |    141700 |    140711 |    129137 |    146404 |     142317 |           2.9 |\n",
      "|  4 | 영업이익                                                         |     71603 |     64473 |     81463 |    123532 |      77779 |          58.8 |\n",
      "|  5 | 영업이익(발표기준)                                               |     71603 |     64473 |     81463 |    123532 |      77779 |          58.8 |\n",
      "|  6 | 금융수익계산에 참여한 계정 펼치기                                |     22971 |     37914 |     17696 |     23290 |      27964 |         -16.7 |\n",
      "|  7 | 금융원가계산에 참여한 계정 펼치기                                |     19588 |     34940 |     14618 |     21222 |      22559 |          -5.9 |\n",
      "|  8 | 기타수익계산에 참여한 계정 펼치기                                |      5997 |      3155 |      2903 |      4954 |       4970 |          -0.3 |\n",
      "|  9 | 기타비용계산에 참여한 계정 펼치기                                |      5395 |      3641 |     10608 |      4369 |       3051 |          43.2 |\n",
      "| 10 | 종속기업,공동지배기업및관계기업관련손익계산에 참여한 계정 펼치기 |      1603 |       606 |       862 |      2256 |       1105 |         104.2 |\n",
      "| 11 | 세전계속사업이익                                                 |     77191 |     67569 |     77697 |    128441 |      86207 |          49   |\n",
      "| 12 | 법인세비용                                                       |     24921 |     18719 |     22146 |     34834 |      23331 |          49.3 |\n",
      "| 13 | 계속영업이익                                                     |     52270 |     48849 |     55551 |     93607 |      62877 |          48.9 |\n",
      "| 14 | 중단영업이익                                                     |       nan |       nan |       nan |       nan |        nan |         nan   |\n",
      "| 15 | 당기순이익                                                       |     52270 |     48849 |     55551 |     93607 |      62877 |          48.9 |\n",
      "| 16 | 지배주주순이익                                                   |     52280 |     48896 |     54890 |     92668 |      61050 |          51.8 |\n",
      "| 17 | 비지배주주순이익                                                 |       -10 |       -47 |       661 |       939 |       1826 |         -48.6 |\n",
      "+----+------------------------------------------------------------------+-----------+-----------+-----------+-----------+------------+---------------+\n"
     ]
    }
   ],
   "source": [
    "print(tabulate(df[1],headers='keys',tablefmt='psql'))"
   ]
  },
  {
   "cell_type": "code",
   "execution_count": null,
   "metadata": {},
   "outputs": [],
   "source": []
  },
  {
   "cell_type": "code",
   "execution_count": null,
   "metadata": {},
   "outputs": [],
   "source": []
  }
 ],
 "metadata": {
  "kernelspec": {
   "display_name": "Python 3",
   "language": "python",
   "name": "python3"
  },
  "language_info": {
   "codemirror_mode": {
    "name": "ipython",
    "version": 3
   },
   "file_extension": ".py",
   "mimetype": "text/x-python",
   "name": "python",
   "nbconvert_exporter": "python",
   "pygments_lexer": "ipython3",
   "version": "3.8.3"
  }
 },
 "nbformat": 4,
 "nbformat_minor": 4
}
