{
 "cells": [
  {
   "cell_type": "markdown",
   "metadata": {},
   "source": [
    "## 전국 신규 민간 아파트 분양가격 동향\n",
    "2015년 10월부터 2018년 7월까지\n",
    "주택분양보증을 받아 분양한 전체 민간 신규아파트 분양가격 동향\n",
    "https://www.data.go.kr/dataset/3035522/fileData.do\n",
    "이 튜토리얼은 아파트 분양가에 대한 분석보다 파이썬 데이터 분석 방법을 배우는데 목적을 두고 있습니다.\n",
    "이 튜토리얼에서는 파이썬 데이터분석 도구인 Pandas를 활용합니다. Pandas에 대한 간략한 소개는 다음의 판다스 10분 완성 문서를 참고해 주시면 좋습니다.\n",
    "https://dataitgirls2.github.io/10minutes2pandas/\n",
    "또 시각화 도구로는 grammer of graphics 문법을 활용할 수 있는 plotnine을 사용합니다.\n",
    "이 튜토리얼은 데잇걸즈 2기와 파이콘 한국 2018에서 진행되기도 했습니다.\n",
    "다음의 경로에서 온라인 분석도구인 Colaboratory의 사본을 생성해서 직접 실행하는 실습을 진행해 보실 수도 있습니다.\n",
    "https://goo.gl/jSr7WU\n",
    "데이터 다운로드 : https://goo.gl/oJydAv\n",
    "!중요\n",
    "버전과 한글폰트\n",
    "한글폰트 사용하기 : http://corazzon.github.io/matplotlib_font_setting\n",
    "* 2020 버전으로 파일만 다르게 해서 분석!"
   ]
  },
  {
   "cell_type": "code",
   "execution_count": 5,
   "metadata": {},
   "outputs": [
    {
     "name": "stdout",
     "output_type": "stream",
     "text": [
      "Name: plotnine\n",
      "Version: 0.7.1\n",
      "Summary: A grammar of graphics for python\n",
      "Home-page: https://github.com/has2k1/plotnine\n",
      "Author: None\n",
      "Author-email: None\n",
      "License: GPL-2\n",
      "Location: c:\\programdata\\anaconda3\\lib\\site-packages\n",
      "Requires: mizani, statsmodels, patsy, numpy, matplotlib, descartes, pandas, scipy\n",
      "Required-by: \n"
     ]
    }
   ],
   "source": [
    "!pip show plotnine"
   ]
  },
  {
   "cell_type": "code",
   "execution_count": 8,
   "metadata": {},
   "outputs": [
    {
     "name": "stdout",
     "output_type": "stream",
     "text": [
      "Name: missingno\n",
      "Version: 0.4.2\n",
      "Summary: Missing data visualization module for Python.\n",
      "Home-page: https://github.com/ResidentMario/missingno\n",
      "Author: Aleksey Bilogur\n",
      "Author-email: aleksey.bilogur@gmail.com\n",
      "License: UNKNOWN\n",
      "Location: c:\\programdata\\anaconda3\\lib\\site-packages\n",
      "Requires: seaborn, numpy, scipy, matplotlib\n",
      "Required-by: \n"
     ]
    }
   ],
   "source": [
    "!pip show missingno"
   ]
  },
  {
   "cell_type": "code",
   "execution_count": 9,
   "metadata": {},
   "outputs": [],
   "source": [
    "import warnings # 경고를 무시해줘서 노트북을 보다 좀 깔끔하게 이용\n",
    "warnings.filterwarnings('ignore')"
   ]
  },
  {
   "cell_type": "code",
   "execution_count": 54,
   "metadata": {},
   "outputs": [],
   "source": [
    "import pandas as pd\n",
    "import numpy as np\n",
    "import re # 정규표현식\n",
    "from plotnine import *\n",
    "import matplotlib as mpl\n",
    "import matplotlib.pyplot as plt\n",
    "import matplotlib.font_manager as fm\n",
    "mpl.rcParams['axes.unicode_minus'] = False # 폰트 꺠짐 방지\n",
    "\n",
    "# 설치된 한글 폰트 출력\n",
    "\n",
    "import matplotlib.font_manager as fm\n",
    "\n",
    "# 설치된 폰트 출력\n",
    "font_list = [font.name for font in fm.fontManager.ttflist]\n",
    "font_list"
   ]
  },
  {
   "cell_type": "code",
   "execution_count": 24,
   "metadata": {},
   "outputs": [
    {
     "data": {
      "text/plain": [
       "'C:\\\\Users\\\\User\\\\Desktop\\\\오늘코딩'"
      ]
     },
     "execution_count": 24,
     "metadata": {},
     "output_type": "execute_result"
    }
   ],
   "source": [
    "# 현재 위치정보를 봅니다.\n",
    "%pwd"
   ]
  },
  {
   "cell_type": "code",
   "execution_count": 42,
   "metadata": {},
   "outputs": [
    {
     "name": "stdout",
     "output_type": "stream",
     "text": [
      " C 드라이브의 볼륨에는 이름이 없습니다.\n",
      " 볼륨 일련 번호: 2ADA-EEDE\n",
      "\n",
      " C:\\Users\\User\\Desktop\\오늘코딩 디렉터리\n",
      "\n",
      "2021-01-06  오후 04:52             8,818 전국 신규 민간 아파트 분양가격 동향.ipynb\n",
      "               1개 파일               8,818 바이트\n",
      "               0개 디렉터리  10,852,720,640 바이트 남음\n"
     ]
    }
   ],
   "source": [
    "# data 폴더 아래에 apt_price 라는 폴더를 만들어 공공데이터 포털에서 다운로드 받은 데이터를 모아 두었습니다 해당 파일을 확인해 봅니다.\n",
    "%ls 전*\n",
    "#오늘코딩/apt_price/"
   ]
  },
  {
   "cell_type": "code",
   "execution_count": 43,
   "metadata": {},
   "outputs": [
    {
     "data": {
      "text/plain": [
       "(4590, 5)"
      ]
     },
     "execution_count": 43,
     "metadata": {},
     "output_type": "execute_result"
    }
   ],
   "source": [
    "pre_sale = pd.read_csv('C:/Users/User/Desktop/오늘코딩/민간아파트_분양가격_동향_20200331.csv', encoding='euc-kr') \n",
    "pre_sale.shape \n",
    "# 데이터 불러오고 데이터 행과 열 확인 \n",
    "#보통 encoding utf-8인데 공공데이터는 인코딩을 안부르면 데이터를 못 부를 수도 있음 꼭 해당파일의 인코딩 지정 필수"
   ]
  },
  {
   "cell_type": "code",
   "execution_count": 46,
   "metadata": {},
   "outputs": [
    {
     "data": {
      "text/html": [
       "<div>\n",
       "<style scoped>\n",
       "    .dataframe tbody tr th:only-of-type {\n",
       "        vertical-align: middle;\n",
       "    }\n",
       "\n",
       "    .dataframe tbody tr th {\n",
       "        vertical-align: top;\n",
       "    }\n",
       "\n",
       "    .dataframe thead th {\n",
       "        text-align: right;\n",
       "    }\n",
       "</style>\n",
       "<table border=\"1\" class=\"dataframe\">\n",
       "  <thead>\n",
       "    <tr style=\"text-align: right;\">\n",
       "      <th></th>\n",
       "      <th>지역명</th>\n",
       "      <th>규모구분</th>\n",
       "      <th>연도</th>\n",
       "      <th>월</th>\n",
       "      <th>분양가격(㎡)</th>\n",
       "    </tr>\n",
       "  </thead>\n",
       "  <tbody>\n",
       "    <tr>\n",
       "      <th>0</th>\n",
       "      <td>서울</td>\n",
       "      <td>전체</td>\n",
       "      <td>2015</td>\n",
       "      <td>10</td>\n",
       "      <td>5841</td>\n",
       "    </tr>\n",
       "    <tr>\n",
       "      <th>1</th>\n",
       "      <td>서울</td>\n",
       "      <td>전용면적 60㎡이하</td>\n",
       "      <td>2015</td>\n",
       "      <td>10</td>\n",
       "      <td>5652</td>\n",
       "    </tr>\n",
       "    <tr>\n",
       "      <th>2</th>\n",
       "      <td>서울</td>\n",
       "      <td>전용면적 60㎡초과 85㎡이하</td>\n",
       "      <td>2015</td>\n",
       "      <td>10</td>\n",
       "      <td>5882</td>\n",
       "    </tr>\n",
       "    <tr>\n",
       "      <th>3</th>\n",
       "      <td>서울</td>\n",
       "      <td>전용면적 85㎡초과 102㎡이하</td>\n",
       "      <td>2015</td>\n",
       "      <td>10</td>\n",
       "      <td>5721</td>\n",
       "    </tr>\n",
       "    <tr>\n",
       "      <th>4</th>\n",
       "      <td>서울</td>\n",
       "      <td>전용면적 102㎡초과</td>\n",
       "      <td>2015</td>\n",
       "      <td>10</td>\n",
       "      <td>5879</td>\n",
       "    </tr>\n",
       "  </tbody>\n",
       "</table>\n",
       "</div>"
      ],
      "text/plain": [
       "  지역명               규모구분    연도   월 분양가격(㎡)\n",
       "0  서울                 전체  2015  10    5841\n",
       "1  서울         전용면적 60㎡이하  2015  10    5652\n",
       "2  서울   전용면적 60㎡초과 85㎡이하  2015  10    5882\n",
       "3  서울  전용면적 85㎡초과 102㎡이하  2015  10    5721\n",
       "4  서울        전용면적 102㎡초과  2015  10    5879"
      ]
     },
     "execution_count": 46,
     "metadata": {},
     "output_type": "execute_result"
    }
   ],
   "source": [
    "pre_sale.head()"
   ]
  },
  {
   "cell_type": "code",
   "execution_count": 45,
   "metadata": {},
   "outputs": [
    {
     "data": {
      "text/html": [
       "<div>\n",
       "<style scoped>\n",
       "    .dataframe tbody tr th:only-of-type {\n",
       "        vertical-align: middle;\n",
       "    }\n",
       "\n",
       "    .dataframe tbody tr th {\n",
       "        vertical-align: top;\n",
       "    }\n",
       "\n",
       "    .dataframe thead th {\n",
       "        text-align: right;\n",
       "    }\n",
       "</style>\n",
       "<table border=\"1\" class=\"dataframe\">\n",
       "  <thead>\n",
       "    <tr style=\"text-align: right;\">\n",
       "      <th></th>\n",
       "      <th>지역명</th>\n",
       "      <th>규모구분</th>\n",
       "      <th>연도</th>\n",
       "      <th>월</th>\n",
       "      <th>분양가격(㎡)</th>\n",
       "    </tr>\n",
       "  </thead>\n",
       "  <tbody>\n",
       "    <tr>\n",
       "      <th>4585</th>\n",
       "      <td>제주</td>\n",
       "      <td>전체</td>\n",
       "      <td>2020</td>\n",
       "      <td>3</td>\n",
       "      <td>3955</td>\n",
       "    </tr>\n",
       "    <tr>\n",
       "      <th>4586</th>\n",
       "      <td>제주</td>\n",
       "      <td>전용면적 60㎡이하</td>\n",
       "      <td>2020</td>\n",
       "      <td>3</td>\n",
       "      <td>4039</td>\n",
       "    </tr>\n",
       "    <tr>\n",
       "      <th>4587</th>\n",
       "      <td>제주</td>\n",
       "      <td>전용면적 60㎡초과 85㎡이하</td>\n",
       "      <td>2020</td>\n",
       "      <td>3</td>\n",
       "      <td>3962</td>\n",
       "    </tr>\n",
       "    <tr>\n",
       "      <th>4588</th>\n",
       "      <td>제주</td>\n",
       "      <td>전용면적 85㎡초과 102㎡이하</td>\n",
       "      <td>2020</td>\n",
       "      <td>3</td>\n",
       "      <td>NaN</td>\n",
       "    </tr>\n",
       "    <tr>\n",
       "      <th>4589</th>\n",
       "      <td>제주</td>\n",
       "      <td>전용면적 102㎡초과</td>\n",
       "      <td>2020</td>\n",
       "      <td>3</td>\n",
       "      <td>3601</td>\n",
       "    </tr>\n",
       "  </tbody>\n",
       "</table>\n",
       "</div>"
      ],
      "text/plain": [
       "     지역명               규모구분    연도  월 분양가격(㎡)\n",
       "4585  제주                 전체  2020  3    3955\n",
       "4586  제주         전용면적 60㎡이하  2020  3    4039\n",
       "4587  제주   전용면적 60㎡초과 85㎡이하  2020  3    3962\n",
       "4588  제주  전용면적 85㎡초과 102㎡이하  2020  3     NaN\n",
       "4589  제주        전용면적 102㎡초과  2020  3    3601"
      ]
     },
     "execution_count": 45,
     "metadata": {},
     "output_type": "execute_result"
    }
   ],
   "source": [
    "pre_sale.tail()"
   ]
  },
  {
   "cell_type": "code",
   "execution_count": 48,
   "metadata": {},
   "outputs": [
    {
     "name": "stdout",
     "output_type": "stream",
     "text": [
      "<class 'pandas.core.frame.DataFrame'>\n",
      "RangeIndex: 4590 entries, 0 to 4589\n",
      "Data columns (total 5 columns):\n",
      " #   Column   Non-Null Count  Dtype \n",
      "---  ------   --------------  ----- \n",
      " 0   지역명      4590 non-null   object\n",
      " 1   규모구분     4590 non-null   object\n",
      " 2   연도       4590 non-null   int64 \n",
      " 3   월        4590 non-null   int64 \n",
      " 4   분양가격(㎡)  4276 non-null   object\n",
      "dtypes: int64(2), object(3)\n",
      "memory usage: 179.4+ KB\n"
     ]
    }
   ],
   "source": [
    "# 분양가격이 숫자 타입이 아닙니다. 숫자 타입으로 변경해줄 필요가 있겠습니다.\n",
    "pre_sale.info() # info 요약을 볼 수 있다."
   ]
  },
  {
   "cell_type": "code",
   "execution_count": 50,
   "metadata": {},
   "outputs": [
    {
     "data": {
      "text/plain": [
       "지역명        object\n",
       "규모구분       object\n",
       "연도          int64\n",
       "월           int64\n",
       "분양가격(㎡)    object\n",
       "dtype: object"
      ]
     },
     "execution_count": 50,
     "metadata": {},
     "output_type": "execute_result"
    }
   ],
   "source": [
    "pre_sale.dtypes # 어떤 데이터 형식인지 확인 가능\n",
    "\n",
    " "
   ]
  },
  {
   "cell_type": "code",
   "execution_count": 58,
   "metadata": {},
   "outputs": [
    {
     "data": {
      "text/plain": [
       "지역명          0\n",
       "규모구분         0\n",
       "연도           0\n",
       "월            0\n",
       "분양가격(㎡)    314\n",
       "dtype: int64"
      ]
     },
     "execution_count": 58,
     "metadata": {},
     "output_type": "execute_result"
    }
   ],
   "source": [
    "pre_sale.isnull().sum() # 결측치 값이 몇개인지? = 분양가격 314개"
   ]
  },
  {
   "cell_type": "code",
   "execution_count": 60,
   "metadata": {},
   "outputs": [],
   "source": [
    "plt.rcParams['font.family'] = 'Malgun Gothic' # 맑은고딕 출력\n",
    "# plt.rcParams['font.family'] = 'NanumGothic'"
   ]
  },
  {
   "cell_type": "code",
   "execution_count": 61,
   "metadata": {},
   "outputs": [
    {
     "data": {
      "text/plain": [
       "<matplotlib.axes._subplots.AxesSubplot at 0x2d29eb20670>"
      ]
     },
     "execution_count": 61,
     "metadata": {},
     "output_type": "execute_result"
    },
    {
     "data": {
      "image/png": "[encoded data removed]",
      "text/plain": [
       "<Figure size 1296x432 with 2 Axes>"
      ]
     },
     "metadata": {
      "needs_background": "light"
     },
     "output_type": "display_data"
    }
   ],
   "source": [
    "# 결측치를 시각화 \n",
    "import missingno as msno\n",
    "msno.matrix(pre_sale, figsize=(18,6))\n",
    "# 위에 줄을 안하면 폰트가 깨져서 위에껄 필수적으로 실행해야함."
   ]
  },
  {
   "cell_type": "code",
   "execution_count": 66,
   "metadata": {},
   "outputs": [],
   "source": [
    "# 연도와 월은 카테고리 형태의 데이터이기 때문에 스트링 형태로 변경\n",
    "pre_sale['연도'] = pre_sale['연도'].astype(str)\n",
    "pre_sale['월'] = pre_sale['월'].astype(str)"
   ]
  },
  {
   "cell_type": "code",
   "execution_count": 67,
   "metadata": {},
   "outputs": [],
   "source": [
    "pre_sale_price = pre_sale['분양가격(㎡)'] # 전처리 전에 새로 데이터를 만들어줌"
   ]
  },
  {
   "cell_type": "code",
   "execution_count": 69,
   "metadata": {},
   "outputs": [],
   "source": [
    "# 수치형 데이터로 데이터 전처리 \n",
    "# 분양가격의 타입을 숫자로 변경해 줍니다.\n",
    "pre_sale['분양가격'] = pd.to_numeric(pre_sale_price, errors='coerce')\n",
    "# 평당 분양가격을 구해보자.\n",
    "pre_sale['평당분양가격'] = pre_sale['분양가격'] *3.3"
   ]
  },
  {
   "cell_type": "code",
   "execution_count": 70,
   "metadata": {},
   "outputs": [
    {
     "name": "stdout",
     "output_type": "stream",
     "text": [
      "<class 'pandas.core.frame.DataFrame'>\n",
      "RangeIndex: 4590 entries, 0 to 4589\n",
      "Data columns (total 7 columns):\n",
      " #   Column   Non-Null Count  Dtype  \n",
      "---  ------   --------------  -----  \n",
      " 0   지역명      4590 non-null   object \n",
      " 1   규모구분     4590 non-null   object \n",
      " 2   연도       4590 non-null   object \n",
      " 3   월        4590 non-null   object \n",
      " 4   분양가격(㎡)  4276 non-null   object \n",
      " 5   분양가격     4260 non-null   float64\n",
      " 6   평당분양가격   4260 non-null   float64\n",
      "dtypes: float64(2), object(5)\n",
      "memory usage: 251.1+ KB\n"
     ]
    }
   ],
   "source": [
    "pre_sale.info() \n",
    "# 연도와 월은 str로 변형됨\n",
    "# float데이터 형태로 분양가격 이랑 평당분양가격이 생성됨."
   ]
  },
  {
   "cell_type": "code",
   "execution_count": 71,
   "metadata": {},
   "outputs": [
    {
     "data": {
      "text/plain": [
       "지역명         object\n",
       "규모구분        object\n",
       "연도          object\n",
       "월           object\n",
       "분양가격(㎡)     object\n",
       "분양가격       float64\n",
       "평당분양가격     float64\n",
       "dtype: object"
      ]
     },
     "execution_count": 71,
     "metadata": {},
     "output_type": "execute_result"
    }
   ],
   "source": [
    "pre_sale.dtypes # 데이터 타입만 검색"
   ]
  },
  {
   "cell_type": "code",
   "execution_count": 72,
   "metadata": {},
   "outputs": [
    {
     "data": {
      "text/plain": [
       "지역명          0\n",
       "규모구분         0\n",
       "연도           0\n",
       "월            0\n",
       "분양가격(㎡)    314\n",
       "분양가격       330\n",
       "평당분양가격     330\n",
       "dtype: int64"
      ]
     },
     "execution_count": 72,
     "metadata": {},
     "output_type": "execute_result"
    }
   ],
   "source": [
    "# 분양가격에 결측치가 많이 있다.\n",
    "pre_sale.isnull().sum()\n",
    "# 결측치가 늘어난 이유 수치형이 되면서 공백값도 결측치로 인식했기 때문에"
   ]
  },
  {
   "cell_type": "code",
   "execution_count": 75,
   "metadata": {},
   "outputs": [
    {
     "data": {
      "text/html": [
       "<div>\n",
       "<style scoped>\n",
       "    .dataframe tbody tr th:only-of-type {\n",
       "        vertical-align: middle;\n",
       "    }\n",
       "\n",
       "    .dataframe tbody tr th {\n",
       "        vertical-align: top;\n",
       "    }\n",
       "\n",
       "    .dataframe thead th {\n",
       "        text-align: right;\n",
       "    }\n",
       "</style>\n",
       "<table border=\"1\" class=\"dataframe\">\n",
       "  <thead>\n",
       "    <tr style=\"text-align: right;\">\n",
       "      <th></th>\n",
       "      <th>분양가격</th>\n",
       "      <th>평당분양가격</th>\n",
       "    </tr>\n",
       "  </thead>\n",
       "  <tbody>\n",
       "    <tr>\n",
       "      <th>count</th>\n",
       "      <td>4260.000000</td>\n",
       "      <td>4260.000000</td>\n",
       "    </tr>\n",
       "    <tr>\n",
       "      <th>mean</th>\n",
       "      <td>3270.160798</td>\n",
       "      <td>10791.530634</td>\n",
       "    </tr>\n",
       "    <tr>\n",
       "      <th>std</th>\n",
       "      <td>1300.362742</td>\n",
       "      <td>4291.197050</td>\n",
       "    </tr>\n",
       "    <tr>\n",
       "      <th>min</th>\n",
       "      <td>1868.000000</td>\n",
       "      <td>6164.400000</td>\n",
       "    </tr>\n",
       "    <tr>\n",
       "      <th>25%</th>\n",
       "      <td>2454.750000</td>\n",
       "      <td>8100.675000</td>\n",
       "    </tr>\n",
       "    <tr>\n",
       "      <th>50%</th>\n",
       "      <td>2890.000000</td>\n",
       "      <td>9537.000000</td>\n",
       "    </tr>\n",
       "    <tr>\n",
       "      <th>75%</th>\n",
       "      <td>3601.000000</td>\n",
       "      <td>11883.300000</td>\n",
       "    </tr>\n",
       "    <tr>\n",
       "      <th>max</th>\n",
       "      <td>13835.000000</td>\n",
       "      <td>45655.500000</td>\n",
       "    </tr>\n",
       "  </tbody>\n",
       "</table>\n",
       "</div>"
      ],
      "text/plain": [
       "               분양가격        평당분양가격\n",
       "count   4260.000000   4260.000000\n",
       "mean    3270.160798  10791.530634\n",
       "std     1300.362742   4291.197050\n",
       "min     1868.000000   6164.400000\n",
       "25%     2454.750000   8100.675000\n",
       "50%     2890.000000   9537.000000\n",
       "75%     3601.000000  11883.300000\n",
       "max    13835.000000  45655.500000"
      ]
     },
     "execution_count": 75,
     "metadata": {},
     "output_type": "execute_result"
    }
   ],
   "source": [
    "pre_sale.describe() # 수치형 데이터 기술통계 확인 가능"
   ]
  },
  {
   "cell_type": "code",
   "execution_count": 76,
   "metadata": {},
   "outputs": [],
   "source": [
    "pre_sale.describe? # 도움말"
   ]
  },
  {
   "cell_type": "code",
   "execution_count": 74,
   "metadata": {},
   "outputs": [
    {
     "data": {
      "text/html": [
       "<div>\n",
       "<style scoped>\n",
       "    .dataframe tbody tr th:only-of-type {\n",
       "        vertical-align: middle;\n",
       "    }\n",
       "\n",
       "    .dataframe tbody tr th {\n",
       "        vertical-align: top;\n",
       "    }\n",
       "\n",
       "    .dataframe thead th {\n",
       "        text-align: right;\n",
       "    }\n",
       "</style>\n",
       "<table border=\"1\" class=\"dataframe\">\n",
       "  <thead>\n",
       "    <tr style=\"text-align: right;\">\n",
       "      <th></th>\n",
       "      <th>지역명</th>\n",
       "      <th>규모구분</th>\n",
       "      <th>연도</th>\n",
       "      <th>월</th>\n",
       "      <th>분양가격(㎡)</th>\n",
       "    </tr>\n",
       "  </thead>\n",
       "  <tbody>\n",
       "    <tr>\n",
       "      <th>count</th>\n",
       "      <td>4590</td>\n",
       "      <td>4590</td>\n",
       "      <td>4590</td>\n",
       "      <td>4590</td>\n",
       "      <td>4276</td>\n",
       "    </tr>\n",
       "    <tr>\n",
       "      <th>unique</th>\n",
       "      <td>17</td>\n",
       "      <td>5</td>\n",
       "      <td>6</td>\n",
       "      <td>12</td>\n",
       "      <td>1766</td>\n",
       "    </tr>\n",
       "    <tr>\n",
       "      <th>top</th>\n",
       "      <td>광주</td>\n",
       "      <td>전용면적 102㎡초과</td>\n",
       "      <td>2016</td>\n",
       "      <td>3</td>\n",
       "      <td>3395</td>\n",
       "    </tr>\n",
       "    <tr>\n",
       "      <th>freq</th>\n",
       "      <td>270</td>\n",
       "      <td>918</td>\n",
       "      <td>1020</td>\n",
       "      <td>425</td>\n",
       "      <td>18</td>\n",
       "    </tr>\n",
       "  </tbody>\n",
       "</table>\n",
       "</div>"
      ],
      "text/plain": [
       "         지역명         규모구분    연도     월 분양가격(㎡)\n",
       "count   4590         4590  4590  4590    4276\n",
       "unique    17            5     6    12    1766\n",
       "top       광주  전용면적 102㎡초과  2016     3    3395\n",
       "freq     270          918  1020   425      18"
      ]
     },
     "execution_count": 74,
     "metadata": {},
     "output_type": "execute_result"
    }
   ],
   "source": [
    "pre_sale.describe(include=[np.object]) \n",
    "# object타임의 데이터도 요약을 해서 보여줌 랜덤하게 보여준다\n",
    "# 데이터 4590 빈번하게 나오는 수 270 "
   ]
  },
  {
   "cell_type": "code",
   "execution_count": 81,
   "metadata": {},
   "outputs": [
    {
     "data": {
      "text/plain": [
       "(255, 7)"
      ]
     },
     "execution_count": 81,
     "metadata": {},
     "output_type": "execute_result"
    }
   ],
   "source": [
    "# 2020년 데이터만 봅시다.\n",
    "pre_sale_2020 = pre_sale.loc[pre_sale['연도']=='2020']\n",
    "pre_sale_2020.shape\n",
    "# pre_sale_2020 = pre_sale.loc[pre_sale['연도']==2020] # 수치형으로 데이터 안뜸 데이터 타입이 매우 중요함!\n",
    "# pre_sale_2020.shape"
   ]
  },
  {
   "cell_type": "code",
   "execution_count": 83,
   "metadata": {},
   "outputs": [
    {
     "data": {
      "text/plain": [
       "전용면적 102㎡초과          918\n",
       "전용면적 85㎡초과 102㎡이하    918\n",
       "전용면적 60㎡초과 85㎡이하     918\n",
       "전체                   918\n",
       "전용면적 60㎡이하           918\n",
       "Name: 규모구분, dtype: int64"
      ]
     },
     "execution_count": 83,
     "metadata": {},
     "output_type": "execute_result"
    }
   ],
   "source": [
    "# 같은 값을 갖고 있는 걸로 시도별로 동일하게 데이터가 들어 있는 것을 확인할 수 있습니다.\n",
    "pre_sale['규모구분'].value_counts()"
   ]
  },
  {
   "cell_type": "code",
   "execution_count": 85,
   "metadata": {},
   "outputs": [
    {
     "data": {
      "text/plain": [
       "광주    270\n",
       "전북    270\n",
       "인천    270\n",
       "강원    270\n",
       "울산    270\n",
       "대전    270\n",
       "제주    270\n",
       "부산    270\n",
       "경남    270\n",
       "충북    270\n",
       "충남    270\n",
       "경북    270\n",
       "전남    270\n",
       "세종    270\n",
       "대구    270\n",
       "서울    270\n",
       "경기    270\n",
       "Name: 지역명, dtype: int64"
      ]
     },
     "execution_count": 85,
     "metadata": {},
     "output_type": "execute_result"
    }
   ],
   "source": [
    "pre_sale['지역명'].value_counts()"
   ]
  },
  {
   "cell_type": "code",
   "execution_count": null,
   "metadata": {},
   "outputs": [],
   "source": []
  },
  {
   "cell_type": "code",
   "execution_count": null,
   "metadata": {},
   "outputs": [],
   "source": []
  },
  {
   "cell_type": "code",
   "execution_count": null,
   "metadata": {},
   "outputs": [],
   "source": []
  },
  {
   "cell_type": "code",
   "execution_count": null,
   "metadata": {},
   "outputs": [],
   "source": []
  },
  {
   "cell_type": "code",
   "execution_count": null,
   "metadata": {},
   "outputs": [],
   "source": []
  },
  {
   "cell_type": "code",
   "execution_count": null,
   "metadata": {},
   "outputs": [],
   "source": []
  },
  {
   "cell_type": "code",
   "execution_count": null,
   "metadata": {},
   "outputs": [],
   "source": []
  },
  {
   "cell_type": "code",
   "execution_count": null,
   "metadata": {},
   "outputs": [],
   "source": []
  },
  {
   "cell_type": "code",
   "execution_count": null,
   "metadata": {},
   "outputs": [],
   "source": []
  },
  {
   "cell_type": "code",
   "execution_count": null,
   "metadata": {},
   "outputs": [],
   "source": []
  },
  {
   "cell_type": "code",
   "execution_count": null,
   "metadata": {},
   "outputs": [],
   "source": []
  },
  {
   "cell_type": "code",
   "execution_count": null,
   "metadata": {},
   "outputs": [],
   "source": []
  },
  {
   "cell_type": "code",
   "execution_count": null,
   "metadata": {},
   "outputs": [],
   "source": []
  },
  {
   "cell_type": "code",
   "execution_count": null,
   "metadata": {},
   "outputs": [],
   "source": []
  },
  {
   "cell_type": "code",
   "execution_count": null,
   "metadata": {},
   "outputs": [],
   "source": []
  },
  {
   "cell_type": "code",
   "execution_count": null,
   "metadata": {},
   "outputs": [],
   "source": []
  },
  {
   "cell_type": "code",
   "execution_count": null,
   "metadata": {},
   "outputs": [],
   "source": []
  },
  {
   "cell_type": "code",
   "execution_count": null,
   "metadata": {},
   "outputs": [],
   "source": []
  },
  {
   "cell_type": "code",
   "execution_count": null,
   "metadata": {},
   "outputs": [],
   "source": []
  },
  {
   "cell_type": "code",
   "execution_count": null,
   "metadata": {},
   "outputs": [],
   "source": []
  },
  {
   "cell_type": "code",
   "execution_count": null,
   "metadata": {},
   "outputs": [],
   "source": []
  },
  {
   "cell_type": "code",
   "execution_count": null,
   "metadata": {},
   "outputs": [],
   "source": []
  }
 ],
 "metadata": {
  "kernelspec": {
   "display_name": "Python 3",
   "language": "python",
   "name": "python3"
  },
  "language_info": {
   "codemirror_mode": {
    "name": "ipython",
    "version": 3
   },
   "file_extension": ".py",
   "mimetype": "text/x-python",
   "name": "python",
   "nbconvert_exporter": "python",
   "pygments_lexer": "ipython3",
   "version": "3.8.3"
  }
 },
 "nbformat": 4,
 "nbformat_minor": 4
}
