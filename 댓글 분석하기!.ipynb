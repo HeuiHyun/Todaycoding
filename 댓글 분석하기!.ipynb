{
 "cells": [
  {
   "cell_type": "code",
   "execution_count": 1,
   "metadata": {},
   "outputs": [],
   "source": [
    "# 라이브러리 로드\n",
    "# requests는 작은 웹브라우저로 웹사이트 내용을 가져온다.\n",
    "import requests\n",
    "# BeautifulSoup 을 통해 읽어 온 웹페이지를 파싱한다.\n",
    "from bs4 import BeautifulSoup as bs\n",
    "# 크롤링 후 결과를 데이터프레임 형태로 보기 위해 불러온다.\n",
    "import pandas as pd\n",
    "# 작업시간을 표시\n",
    "from tqdm import trange"
   ]
  },
  {
   "cell_type": "code",
   "execution_count": 2,
   "metadata": {},
   "outputs": [
    {
     "data": {
      "text/plain": [
       "<Response [200]>"
      ]
     },
     "execution_count": 2,
     "metadata": {},
     "output_type": "execute_result"
    }
   ],
   "source": [
    "# 크롤링 할 사이트\n",
    "base_url = \"https://www.inflearn.com/pages/newyear-event-20200102\"\n",
    "response = requests.get( base_url )\n",
    "response"
   ]
  },
  {
   "cell_type": "code",
   "execution_count": null,
   "metadata": {},
   "outputs": [],
   "source": [
    "# response.text\n",
    "# html에 있는 텍스트 파일 불러오라 인데 내컴퓨터는 렉이먹음."
   ]
  },
  {
   "cell_type": "code",
   "execution_count": 3,
   "metadata": {},
   "outputs": [],
   "source": [
    "soup = bs(response.text, 'html.parser')\n",
    "# response.text를 html 형식으로 파싱"
   ]
  },
  {
   "cell_type": "code",
   "execution_count": null,
   "metadata": {},
   "outputs": [],
   "source": [
    "# 특정 내용들만 사용할 것임\n",
    "# main > section > div > div > div.chitchats > div.chitchat-list >\n",
    "# div:nth-child(33) > div > div.body.edit-chitchat\n",
    "# 유투버가 댓글 단 댓글을 가져옴"
   ]
  },
  {
   "cell_type": "code",
   "execution_count": 4,
   "metadata": {},
   "outputs": [
    {
     "data": {
      "text/plain": [
       "<div class=\"chitchat-item chitchat-editor-closed comment-editor-closed\" data-id=\"18594\">\n",
       "<figure class=\"image is-48x48\">\n",
       "<img alt=\"인프런\" class=\"user_thumb is-rounded\" src=\"https://cdn.inflearn.com/wp-content/uploads/avatars/17/b415d9fa24d186c4adf22ca9a49116b5-bpfull.png\"/>\n",
       "</figure>\n",
       "<div class=\"content\">\n",
       "<div class=\"author\">\n",
       "<span class=\"author_name\">인프런</span>\n",
       "<time class=\"created_at\" datetime=\"Sun Dec 29 2019 17:59:00 GMT+0900 (GMT+09:00)\">⋅ 약 1년 전</time>\n",
       "<a class=\"chitchat__button chitchat__button--update-chitchat by-chitchat-editor-opened\" type=\"button\">저장</a>\n",
       "<a class=\"chitchat__button chitchat__button--hide-editor by-chitchat-editor-opened\" type=\"button\">취소</a>\n",
       "<a class=\"chitchat__button chitchat__button--hide-comment-editor by-comment-editor-opened\" type=\"button\">작성취소</a>\n",
       "<a class=\"chitchat__button chitchat__button_recommend e-like-button\" type=\"button\">\n",
       "<button class=\"T-like-button\" data-reaction=\"\" data-recommended_cnt=\"1\">\n",
       "<span class=\"infd-icon fill\"><svg viewbox=\"0 0 14 12\" width=\"16\" xmlns=\"http://www.w3.org/2000/svg\"><path d=\"M12.641.82C11.143-.43 8.914-.204 7.54 1.186L7 1.729l-.538-.544C5.089-.205 2.858-.43 1.359.82-.358 2.256-.448 4.833 1.09 6.389l5.29 5.352c.342.345.897.345 1.24 0l5.29-5.352c1.54-1.556 1.45-4.133-.268-5.568z\" fill=\"#212529\" fill-rule=\"evenodd\"></path></svg></span>\n",
       "<span class=\"infd-icon\"><svg aria-hidden=\"true\" class=\"svg-inline--fa fa-heart fa-w-16\" data-icon=\"heart\" data-prefix=\"fal\" focusable=\"false\" role=\"img\" viewbox=\"0 0 512 512\" width=\"16\" xmlns=\"http://www.w3.org/2000/svg\"><path d=\"M462.3 62.7c-54.5-46.4-136-38.7-186.6 13.5L256 96.6l-19.7-20.3C195.5 34.1 113.2 8.7 49.7 62.7c-62.8 53.6-66.1 149.8-9.9 207.8l193.5 199.8c6.2 6.4 14.4 9.7 22.6 9.7 8.2 0 16.4-3.2 22.6-9.7L472 270.5c56.4-58 53.1-154.2-9.7-207.8zm-13.1 185.6L256.4 448.1 62.8 248.3c-38.4-39.6-46.4-115.1 7.7-161.2 54.8-46.8 119.2-12.9 142.8 11.5l42.7 44.1 42.7-44.1c23.2-24 88.2-58 142.8-11.5 54 46 46.1 121.5 7.7 161.2z\" fill=\"#212529\"></path></svg></span>\n",
       "<span class=\"number\">(1)</span>\n",
       "</button>\n",
       "</a>\n",
       "</div>\n",
       "<div class=\"body edit-chitchat by-chitchat-editor-closed\">인프런 0호 팀원이에요!\n",
       "그동안 서비스 개발 때문에 js 를 많이 했었는데 앞으론 통계나 분석을 많이 하고 싶어서 파이썬을 공부하고 싶어요! 올해 파이썬 마스터가 되는걸로..\n",
       "#관심강의: 남박사의 파이썬 활용</div>\n",
       "<div class=\"chitchat__editor by-chitchat-editor-opened\">\n",
       "<textarea class=\"tinymce\"></textarea>\n",
       "</div>\n",
       "<div class=\"summary_comments\" data-comments=\"\">\n",
       "</div>\n",
       "<div class=\"chitchats_and_editor is-hidden\">\n",
       "<div class=\"chitchat-comment-list\">\n",
       "</div>\n",
       "<div class=\"comment__editor by-comment-editor-opened\">\n",
       "<textarea class=\"tinymce\"></textarea>\n",
       "<button class=\"insert-chitchat-cmt button\" type=\"button\">등록</button>\n",
       "</div>\n",
       "</div>\n",
       "</div>\n",
       "</div>"
      ]
     },
     "execution_count": 4,
     "metadata": {},
     "output_type": "execute_result"
    }
   ],
   "source": [
    "content = soup.select(\"#main > section > div > div > div.chitchats > div.chitchat-list > div\")\n",
    "content[-1]"
   ]
  },
  {
   "cell_type": "code",
   "execution_count": 7,
   "metadata": {},
   "outputs": [
    {
     "data": {
      "text/plain": [
       "<div class=\"body edit-chitchat by-chitchat-editor-closed\">인프런 0호 팀원이에요!\n",
       "그동안 서비스 개발 때문에 js 를 많이 했었는데 앞으론 통계나 분석을 많이 하고 싶어서 파이썬을 공부하고 싶어요! 올해 파이썬 마스터가 되는걸로..\n",
       "#관심강의: 남박사의 파이썬 활용</div>"
      ]
     },
     "execution_count": 7,
     "metadata": {},
     "output_type": "execute_result"
    }
   ],
   "source": [
    "content[-1].select(\"div.body.edit-chitchat\")[0]"
   ]
  },
  {
   "cell_type": "code",
   "execution_count": 8,
   "metadata": {},
   "outputs": [
    {
     "data": {
      "text/plain": [
       "'인프런 0호 팀원이에요!\\n그동안 서비스 개발 때문에 js 를 많이 했었는데 앞으론 통계나 분석을 많이 하고 싶어서 파이썬을 공부하고 싶어요! 올해 파이썬 마스터가 되는걸로..\\n#관심강의: 남박사의 파이썬 활용'"
      ]
     },
     "execution_count": 8,
     "metadata": {},
     "output_type": "execute_result"
    }
   ],
   "source": [
    "chitchat = content[-1].select(\"div.body.edit-chitchat\")[0].get_text(strip=True)\n",
    "chitchat\n",
    "# 위에서 첫번재 댓글을 가져와서 get.text 앞뒤의 공백을 제거 해줘라라는 의미"
   ]
  },
  {
   "cell_type": "code",
   "execution_count": 17,
   "metadata": {},
   "outputs": [
    {
     "name": "stdout",
     "output_type": "stream",
     "text": [
      "--------------------\n",
      "2020년  목표: 프알못에서 프로젝트 마스터 되기 \n",
      "관심 있는 강의 : 스프링 , React\n",
      "--------------------\n",
      "2020년 목표: 스프링 열심히 공부하서 직장에서 사랑받고 싶어요!!\n",
      "관심 있는 강의 : 스프링 웹 MVC\n",
      "--------------------\n",
      "2020년 목표: C++ 열심히 공부해서, 학교에서 꼭 A 맞기..!! \n",
      "관심있는 강의: 따배씨 C++\n",
      "--------------------\n",
      "2020년 목표 : 리액트 공부하기\n",
      "--------------------\n",
      "40대 프로그래밍 시작! : 우리를 위한 프로그래밍 : 파이썬 중급\n"
     ]
    }
   ],
   "source": [
    "# 댓글만 봐서 분석해야하기 때문에 for문 사용 \n",
    "events = []\n",
    "for i in range(5):\n",
    "    print(\"-\"*20) # 구분선\n",
    "    chitchat = content[i].select(\"div.body.edit-chitchat\")[0].get_text(strip=True)\n",
    "    print(chitchat)\n",
    "    events.append(chitchat)"
   ]
  },
  {
   "cell_type": "code",
   "execution_count": 18,
   "metadata": {},
   "outputs": [
    {
     "data": {
      "text/plain": [
       "['2020년  목표: 프알못에서 프로젝트 마스터 되기 \\n관심 있는 강의 : 스프링 , React',\n",
       " '2020년 목표: 스프링 열심히 공부하서 직장에서 사랑받고 싶어요!!\\n관심 있는 강의 : 스프링 웹 MVC',\n",
       " '2020년 목표: C++ 열심히 공부해서, 학교에서 꼭 A 맞기..!! \\n관심있는 강의: 따배씨 C++',\n",
       " '2020년 목표 : 리액트 공부하기',\n",
       " '40대 프로그래밍 시작! : 우리를 위한 프로그래밍 : 파이썬 중급']"
      ]
     },
     "execution_count": 18,
     "metadata": {},
     "output_type": "execute_result"
    }
   ],
   "source": [
    "events"
   ]
  },
  {
   "cell_type": "code",
   "execution_count": 14,
   "metadata": {},
   "outputs": [
    {
     "data": {
      "text/plain": [
       "2446"
      ]
     },
     "execution_count": 14,
     "metadata": {},
     "output_type": "execute_result"
    }
   ],
   "source": [
    "content_count=  len(content)\n",
    "content_count"
   ]
  },
  {
   "cell_type": "code",
   "execution_count": 19,
   "metadata": {},
   "outputs": [
    {
     "name": "stderr",
     "output_type": "stream",
     "text": [
      "100%|██████████| 2446/2446 [00:01<00:00, 1813.69it/s]\n"
     ]
    }
   ],
   "source": [
    "events = []\n",
    "for i in trange(content_count): # 전체범위 trange 진행률을 표시해줌\n",
    "    chitchat = content[i].select(\"div.body.edit-chitchat\")[0].get_text(strip=True)\n",
    "    events.append(chitchat)"
   ]
  },
  {
   "cell_type": "code",
   "execution_count": 21,
   "metadata": {},
   "outputs": [
    {
     "data": {
      "text/plain": [
       "['2020년  목표: 프알못에서 프로젝트 마스터 되기 \\n관심 있는 강의 : 스프링 , React',\n",
       " '2020년 목표: 스프링 열심히 공부하서 직장에서 사랑받고 싶어요!!\\n관심 있는 강의 : 스프링 웹 MVC',\n",
       " '2020년 목표: C++ 열심히 공부해서, 학교에서 꼭 A 맞기..!! \\n관심있는 강의: 따배씨 C++',\n",
       " '2020년 목표 : 리액트 공부하기',\n",
       " '40대 프로그래밍 시작! : 우리를 위한 프로그래밍 : 파이썬 중급',\n",
       " '2020년 목표 : 돌머리 비전공자가 멋진 전공자 되기!',\n",
       " '2020 년목표: 비전공자(경영)가 전공자(it) 되기!!!',\n",
       " '2020년 목표 : 리액트 공부하기, 스프링 공부하기',\n",
       " '2020년에는 아이티 마스터가 되기 관심강의 리액트\\n#관심강의 : React로 NodeBird SNS 만들기',\n",
       " '2020년에는 아이티 마스터가 되기 관심강의 리액트']"
      ]
     },
     "execution_count": 21,
     "metadata": {},
     "output_type": "execute_result"
    }
   ],
   "source": [
    "events[:10] # 잘 들어왔음."
   ]
  },
  {
   "cell_type": "code",
   "execution_count": 23,
   "metadata": {},
   "outputs": [
    {
     "data": {
      "text/plain": [
       "(2446, 1)"
      ]
     },
     "execution_count": 23,
     "metadata": {},
     "output_type": "execute_result"
    }
   ],
   "source": [
    "# 판다스로 데이터 프레임으로 만들어줌.\n",
    "df = pd.DataFrame({\"text\":events})\n",
    "df.shape"
   ]
  },
  {
   "cell_type": "code",
   "execution_count": 24,
   "metadata": {},
   "outputs": [],
   "source": [
    "# 매번 크롤링을 하면 불편하므로 파일로 저장\n",
    "# 인덱스 false를 해줘야만 인덱스 값이 저장이 안됨.\n",
    "df.to_csv(\"inflearn-event.csv\", index=False)"
   ]
  },
  {
   "cell_type": "code",
   "execution_count": 25,
   "metadata": {},
   "outputs": [
    {
     "data": {
      "text/html": [
       "<div>\n",
       "<style scoped>\n",
       "    .dataframe tbody tr th:only-of-type {\n",
       "        vertical-align: middle;\n",
       "    }\n",
       "\n",
       "    .dataframe tbody tr th {\n",
       "        vertical-align: top;\n",
       "    }\n",
       "\n",
       "    .dataframe thead th {\n",
       "        text-align: right;\n",
       "    }\n",
       "</style>\n",
       "<table border=\"1\" class=\"dataframe\">\n",
       "  <thead>\n",
       "    <tr style=\"text-align: right;\">\n",
       "      <th></th>\n",
       "      <th>text</th>\n",
       "    </tr>\n",
       "  </thead>\n",
       "  <tbody>\n",
       "    <tr>\n",
       "      <th>0</th>\n",
       "      <td>2020년  목표: 프알못에서 프로젝트 마스터 되기 \\n관심 있는 강의 : 스프링 ...</td>\n",
       "    </tr>\n",
       "    <tr>\n",
       "      <th>1</th>\n",
       "      <td>2020년 목표: 스프링 열심히 공부하서 직장에서 사랑받고 싶어요!!\\n관심 있는 ...</td>\n",
       "    </tr>\n",
       "    <tr>\n",
       "      <th>2</th>\n",
       "      <td>2020년 목표: C++ 열심히 공부해서, 학교에서 꼭 A 맞기..!! \\n관심있는...</td>\n",
       "    </tr>\n",
       "    <tr>\n",
       "      <th>3</th>\n",
       "      <td>2020년 목표 : 리액트 공부하기</td>\n",
       "    </tr>\n",
       "    <tr>\n",
       "      <th>4</th>\n",
       "      <td>40대 프로그래밍 시작! : 우리를 위한 프로그래밍 : 파이썬 중급</td>\n",
       "    </tr>\n",
       "  </tbody>\n",
       "</table>\n",
       "</div>"
      ],
      "text/plain": [
       "                                                text\n",
       "0  2020년  목표: 프알못에서 프로젝트 마스터 되기 \\n관심 있는 강의 : 스프링 ...\n",
       "1  2020년 목표: 스프링 열심히 공부하서 직장에서 사랑받고 싶어요!!\\n관심 있는 ...\n",
       "2  2020년 목표: C++ 열심히 공부해서, 학교에서 꼭 A 맞기..!! \\n관심있는...\n",
       "3                                2020년 목표 : 리액트 공부하기\n",
       "4              40대 프로그래밍 시작! : 우리를 위한 프로그래밍 : 파이썬 중급"
      ]
     },
     "execution_count": 25,
     "metadata": {},
     "output_type": "execute_result"
    }
   ],
   "source": [
    "# 저장확인\n",
    "pd.read_csv(\"inflearn-event.csv\").head()"
   ]
  },
  {
   "cell_type": "code",
   "execution_count": null,
   "metadata": {},
   "outputs": [],
   "source": []
  },
  {
   "cell_type": "code",
   "execution_count": null,
   "metadata": {},
   "outputs": [],
   "source": []
  },
  {
   "cell_type": "code",
   "execution_count": null,
   "metadata": {},
   "outputs": [],
   "source": []
  },
  {
   "cell_type": "code",
   "execution_count": null,
   "metadata": {},
   "outputs": [],
   "source": []
  },
  {
   "cell_type": "code",
   "execution_count": null,
   "metadata": {},
   "outputs": [],
   "source": []
  },
  {
   "cell_type": "code",
   "execution_count": null,
   "metadata": {},
   "outputs": [],
   "source": []
  },
  {
   "cell_type": "code",
   "execution_count": null,
   "metadata": {},
   "outputs": [],
   "source": []
  },
  {
   "cell_type": "code",
   "execution_count": null,
   "metadata": {},
   "outputs": [],
   "source": []
  }
 ],
 "metadata": {
  "kernelspec": {
   "display_name": "Python 3",
   "language": "python",
   "name": "python3"
  },
  "language_info": {
   "codemirror_mode": {
    "name": "ipython",
    "version": 3
   },
   "file_extension": ".py",
   "mimetype": "text/x-python",
   "name": "python",
   "nbconvert_exporter": "python",
   "pygments_lexer": "ipython3",
   "version": "3.8.3"
  }
 },
 "nbformat": 4,
 "nbformat_minor": 4
}
