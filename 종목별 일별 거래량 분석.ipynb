{
 "cells": [
  {
   "cell_type": "markdown",
   "metadata": {},
   "source": [
    "## 라이브러리 불러오기"
   ]
  },
  {
   "cell_type": "code",
   "execution_count": 2,
   "metadata": {},
   "outputs": [],
   "source": [
    "# 데이터 분석을 위해 pandas 불러오기\n",
    "import pandas as pd"
   ]
  },
  {
   "cell_type": "code",
   "execution_count": null,
   "metadata": {},
   "outputs": [],
   "source": [
    "# colab 을 사용한다면 런타임이 초기화 될때마다 다시 설치해 주어야 합니다.\n",
    "# 로컬 컴퓨터에 설치했다면 이전에 설치된 라이브러리를 사용해 주시면 됩니다.\n",
    "# !pip install -U finance-datareader"
   ]
  },
  {
   "cell_type": "code",
   "execution_count": 4,
   "metadata": {},
   "outputs": [],
   "source": [
    "# FinanceDataReader 를 fdr 별칭으로 가져오기\n",
    "import FinanceDataReader as fdr"
   ]
  },
  {
   "cell_type": "markdown",
   "metadata": {},
   "source": [
    "## 개별 종목의 일별 시세 수집\n",
    "- 종목코드로 수집이 가능합니다.\n",
    "- 종목명을 찾아서 일별 시세를 수집해 주는 함수를 만들어 볼 예정입니다."
   ]
  },
  {
   "cell_type": "code",
   "execution_count": 11,
   "metadata": {},
   "outputs": [
    {
     "data": {
      "text/html": [
       "<div>\n",
       "<style scoped>\n",
       "    .dataframe tbody tr th:only-of-type {\n",
       "        vertical-align: middle;\n",
       "    }\n",
       "\n",
       "    .dataframe tbody tr th {\n",
       "        vertical-align: top;\n",
       "    }\n",
       "\n",
       "    .dataframe thead th {\n",
       "        text-align: right;\n",
       "    }\n",
       "</style>\n",
       "<table border=\"1\" class=\"dataframe\">\n",
       "  <thead>\n",
       "    <tr style=\"text-align: right;\">\n",
       "      <th></th>\n",
       "      <th>Open</th>\n",
       "      <th>High</th>\n",
       "      <th>Low</th>\n",
       "      <th>Close</th>\n",
       "      <th>Volume</th>\n",
       "      <th>Change</th>\n",
       "    </tr>\n",
       "    <tr>\n",
       "      <th>Date</th>\n",
       "      <th></th>\n",
       "      <th></th>\n",
       "      <th></th>\n",
       "      <th></th>\n",
       "      <th></th>\n",
       "      <th></th>\n",
       "    </tr>\n",
       "  </thead>\n",
       "  <tbody>\n",
       "    <tr>\n",
       "      <th>2017-01-02</th>\n",
       "      <td>35980</td>\n",
       "      <td>36240</td>\n",
       "      <td>35880</td>\n",
       "      <td>36100</td>\n",
       "      <td>93012</td>\n",
       "      <td>0.001665</td>\n",
       "    </tr>\n",
       "    <tr>\n",
       "      <th>2017-01-03</th>\n",
       "      <td>36280</td>\n",
       "      <td>36620</td>\n",
       "      <td>36020</td>\n",
       "      <td>36480</td>\n",
       "      <td>147153</td>\n",
       "      <td>0.010526</td>\n",
       "    </tr>\n",
       "    <tr>\n",
       "      <th>2017-01-04</th>\n",
       "      <td>36500</td>\n",
       "      <td>36520</td>\n",
       "      <td>36100</td>\n",
       "      <td>36160</td>\n",
       "      <td>159435</td>\n",
       "      <td>-0.008772</td>\n",
       "    </tr>\n",
       "    <tr>\n",
       "      <th>2017-01-05</th>\n",
       "      <td>36060</td>\n",
       "      <td>36060</td>\n",
       "      <td>35540</td>\n",
       "      <td>35560</td>\n",
       "      <td>219349</td>\n",
       "      <td>-0.016593</td>\n",
       "    </tr>\n",
       "    <tr>\n",
       "      <th>2017-01-06</th>\n",
       "      <td>36180</td>\n",
       "      <td>36440</td>\n",
       "      <td>36040</td>\n",
       "      <td>36200</td>\n",
       "      <td>177619</td>\n",
       "      <td>0.017998</td>\n",
       "    </tr>\n",
       "  </tbody>\n",
       "</table>\n",
       "</div>"
      ],
      "text/plain": [
       "             Open   High    Low  Close  Volume    Change\n",
       "Date                                                    \n",
       "2017-01-02  35980  36240  35880  36100   93012  0.001665\n",
       "2017-01-03  36280  36620  36020  36480  147153  0.010526\n",
       "2017-01-04  36500  36520  36100  36160  159435 -0.008772\n",
       "2017-01-05  36060  36060  35540  35560  219349 -0.016593\n",
       "2017-01-06  36180  36440  36040  36200  177619  0.017998"
      ]
     },
     "execution_count": 11,
     "metadata": {},
     "output_type": "execute_result"
    }
   ],
   "source": [
    "# 삼성전자, 2017년~현재 일별 시세 받아오기\n",
    "# 삼성전자의 종목 번호 '005930'\n",
    "\n",
    "df = fdr.DataReader(\"005930\",\"2017\",\"2021\") # 2017년 부터 2021년 기간을 정해 줄 수 있다.\n",
    "df.head()\n",
    "# close = 종가 , volume = 거래량, change = 전일대비"
   ]
  },
  {
   "cell_type": "code",
   "execution_count": 13,
   "metadata": {},
   "outputs": [
    {
     "data": {
      "text/plain": [
       "<matplotlib.axes._subplots.AxesSubplot at 0x2054fe38ca0>"
      ]
     },
     "execution_count": 13,
     "metadata": {},
     "output_type": "execute_result"
    },
    {
     "data": {
      "image/png": "[encoded data removed]",
      "text/plain": [
       "<Figure size 432x288 with 1 Axes>"
      ]
     },
     "metadata": {
      "needs_background": "light"
     },
     "output_type": "display_data"
    }
   ],
   "source": [
    "# 종가 시각화 하기\n",
    "df[\"Close\"].plot()"
   ]
  },
  {
   "cell_type": "markdown",
   "metadata": {},
   "source": [
    "## 상장종목 목록 가져오기"
   ]
  },
  {
   "cell_type": "code",
   "execution_count": 17,
   "metadata": {},
   "outputs": [
    {
     "data": {
      "text/plain": [
       "(2614, 10)"
      ]
     },
     "execution_count": 17,
     "metadata": {},
     "output_type": "execute_result"
    }
   ],
   "source": [
    "# 이전 강의에서 저장해 놓았던 csv 파일로 분석을 합니다.\n",
    "# colab 사용자의 경우 이미 csv 파일이 지워졌을 수 있기 때문에 파일이 없을 경우 아래 셀에서 다시 load하면 됩니다.\n",
    "df_krx = pd.read_csv(\"krx.csv\")\n",
    "df_krx.shape"
   ]
  },
  {
   "cell_type": "code",
   "execution_count": null,
   "metadata": {},
   "outputs": [],
   "source": [
    "# 위 CSV 파일이 로드되지 않아 당황스러우신가요? 그럼 아래 주석을 풀고 다시 KRX 데이터를 받아오세요.\n",
    "# colab의 경우 일정 시간이 지나면 런타임이 초기화 되기 때문에 다시 로드하면 데이터를 가져올 수 있습니다.\n",
    "# df_krx = fdr.StockListing('KRX')"
   ]
  },
  {
   "cell_type": "markdown",
   "metadata": {},
   "source": [
    "## 상장종목 목록 사용하기\n",
    "- 종목명과 심볼을 찾기 위해 상장종목 목록을 사용합니다."
   ]
  },
  {
   "cell_type": "code",
   "execution_count": 20,
   "metadata": {},
   "outputs": [
    {
     "data": {
      "text/html": [
       "<div>\n",
       "<style scoped>\n",
       "    .dataframe tbody tr th:only-of-type {\n",
       "        vertical-align: middle;\n",
       "    }\n",
       "\n",
       "    .dataframe tbody tr th {\n",
       "        vertical-align: top;\n",
       "    }\n",
       "\n",
       "    .dataframe thead th {\n",
       "        text-align: right;\n",
       "    }\n",
       "</style>\n",
       "<table border=\"1\" class=\"dataframe\">\n",
       "  <thead>\n",
       "    <tr style=\"text-align: right;\">\n",
       "      <th></th>\n",
       "      <th>Symbol</th>\n",
       "      <th>Name</th>\n",
       "    </tr>\n",
       "  </thead>\n",
       "  <tbody>\n",
       "    <tr>\n",
       "      <th>0</th>\n",
       "      <td>060310</td>\n",
       "      <td>3S</td>\n",
       "    </tr>\n",
       "    <tr>\n",
       "      <th>1</th>\n",
       "      <td>095570</td>\n",
       "      <td>AJ네트웍스</td>\n",
       "    </tr>\n",
       "    <tr>\n",
       "      <th>2</th>\n",
       "      <td>006840</td>\n",
       "      <td>AK홀딩스</td>\n",
       "    </tr>\n",
       "    <tr>\n",
       "      <th>3</th>\n",
       "      <td>054620</td>\n",
       "      <td>APS홀딩스</td>\n",
       "    </tr>\n",
       "    <tr>\n",
       "      <th>4</th>\n",
       "      <td>265520</td>\n",
       "      <td>AP시스템</td>\n",
       "    </tr>\n",
       "  </tbody>\n",
       "</table>\n",
       "</div>"
      ],
      "text/plain": [
       "   Symbol    Name\n",
       "0  060310      3S\n",
       "1  095570  AJ네트웍스\n",
       "2  006840   AK홀딩스\n",
       "3  054620  APS홀딩스\n",
       "4  265520   AP시스템"
      ]
     },
     "execution_count": 20,
     "metadata": {},
     "output_type": "execute_result"
    }
   ],
   "source": [
    "# DataFrame 에 어떤 데이터가 들어있는 head()로 일부 데이터만 가져와 봅니다.\n",
    "df_krx[[\"Symbol\",\"Name\"]].head()"
   ]
  },
  {
   "cell_type": "code",
   "execution_count": 28,
   "metadata": {},
   "outputs": [
    {
     "data": {
      "text/plain": [
       "'352820'"
      ]
     },
     "execution_count": 28,
     "metadata": {},
     "output_type": "execute_result"
    }
   ],
   "source": [
    "# df_krx의 Name column 에서 '빅히트'에 해당하는 row를 전부 가져오는데 Name column만 가져와\n",
    "# list 형태로 index 번호는 빼고 ['빅히트'] 만 가져오게 되고 [0]을 통해 list에 있는 string만 가져오게 됩니다.\n",
    "# 빅히트 (series) -> ['빅히트'] (list) -> '빅히트' (string)\n",
    "# tolist를 써서 인덱스 값이 빠지고 value 값만 남았다. [0] 을 써서 리스트형식을 스트링 형식으로 \n",
    "item_name = \"빅히트\"\n",
    "df_krx.loc[df_krx[\"Name\"]==item_name,\"Symbol\"].tolist()[0] "
   ]
  },
  {
   "cell_type": "code",
   "execution_count": 37,
   "metadata": {},
   "outputs": [],
   "source": [
    "# '히트'라는 이름을 가진 상장사가 있는지 확인해 보기\n",
    "# df_krx.loc[df_krx[\"Name\"]==\"히트\",\"Symbol\"].tolist()[0] "
   ]
  },
  {
   "cell_type": "markdown",
   "metadata": {},
   "source": [
    "## 종목명으로 종목 코드를 받아오는 함수 만들기"
   ]
  },
  {
   "cell_type": "code",
   "execution_count": 43,
   "metadata": {},
   "outputs": [],
   "source": [
    "# 종목명으로 종목코드 받아오는 함수 만들기\n",
    "# df_krx의 Name column에서 같은 값이 있으면 \n",
    "# row의 Symbol column의 값을 list로 name_list에 저장하기\n",
    "# item_code_by_item_name 함수를 만듭니다.\n",
    "# def item_code_by_item_name(item_name):\n",
    "# 예외처리 필요\n",
    "def item_code_by_item_name(item_name):\n",
    "    \"\"\"\n",
    "    종목명을 받아 종목코드를 찾아 반환하는 함수\n",
    "    \"\"\"\n",
    "    item_code_list = df_krx.loc[df_krx[\"Name\"]==item_name,\"Symbol\"].tolist() \n",
    "    if len(item_code_list) >0:\n",
    "        item_code = item_code_list[0]\n",
    "        return item_code\n",
    "    else:\n",
    "        return False"
   ]
  },
  {
   "cell_type": "code",
   "execution_count": 44,
   "metadata": {},
   "outputs": [
    {
     "data": {
      "text/plain": [
       "'352820'"
      ]
     },
     "execution_count": 44,
     "metadata": {},
     "output_type": "execute_result"
    }
   ],
   "source": [
    "item_code_by_item_name(\"빅히트\")"
   ]
  },
  {
   "cell_type": "code",
   "execution_count": 45,
   "metadata": {},
   "outputs": [
    {
     "data": {
      "text/plain": [
       "False"
      ]
     },
     "execution_count": 45,
     "metadata": {},
     "output_type": "execute_result"
    }
   ],
   "source": [
    "# 네이버로 등록된 상장사는 없습니다.\n",
    "# 잘못 입력된 텍스트에 대해 예외처리를 하는지 확인합니다.\n",
    "item_code_by_item_name(\"네이버\")"
   ]
  },
  {
   "cell_type": "code",
   "execution_count": 46,
   "metadata": {},
   "outputs": [
    {
     "data": {
      "text/plain": [
       "'035420'"
      ]
     },
     "execution_count": 46,
     "metadata": {},
     "output_type": "execute_result"
    }
   ],
   "source": [
    "# 네이버는 NAVER로 등록되어 있습니다.\n",
    "item_code_by_item_name(\"NAVER\")"
   ]
  },
  {
   "cell_type": "code",
   "execution_count": 47,
   "metadata": {},
   "outputs": [
    {
     "data": {
      "text/plain": [
       "'005930'"
      ]
     },
     "execution_count": 47,
     "metadata": {},
     "output_type": "execute_result"
    }
   ],
   "source": [
    "# 삼성전자\n",
    "item_code_by_item_name(\"삼성전자\")"
   ]
  },
  {
   "cell_type": "code",
   "execution_count": 48,
   "metadata": {},
   "outputs": [
    {
     "data": {
      "text/plain": [
       "'068270'"
      ]
     },
     "execution_count": 48,
     "metadata": {},
     "output_type": "execute_result"
    }
   ],
   "source": [
    "# 셀트리온과 카카오게임즈도 확인하여 봅니다.\n",
    "item_code_by_item_name(\"셀트리온\")"
   ]
  },
  {
   "cell_type": "code",
   "execution_count": 50,
   "metadata": {},
   "outputs": [
    {
     "data": {
      "text/plain": [
       "'293490'"
      ]
     },
     "execution_count": 50,
     "metadata": {},
     "output_type": "execute_result"
    }
   ],
   "source": [
    "item_code_by_item_name(\"카카오게임즈\")"
   ]
  },
  {
   "cell_type": "code",
   "execution_count": 52,
   "metadata": {},
   "outputs": [
    {
     "data": {
      "text/html": [
       "<div>\n",
       "<style scoped>\n",
       "    .dataframe tbody tr th:only-of-type {\n",
       "        vertical-align: middle;\n",
       "    }\n",
       "\n",
       "    .dataframe tbody tr th {\n",
       "        vertical-align: top;\n",
       "    }\n",
       "\n",
       "    .dataframe thead th {\n",
       "        text-align: right;\n",
       "    }\n",
       "</style>\n",
       "<table border=\"1\" class=\"dataframe\">\n",
       "  <thead>\n",
       "    <tr style=\"text-align: right;\">\n",
       "      <th></th>\n",
       "      <th>Open</th>\n",
       "      <th>High</th>\n",
       "      <th>Low</th>\n",
       "      <th>Close</th>\n",
       "      <th>Volume</th>\n",
       "      <th>Change</th>\n",
       "    </tr>\n",
       "    <tr>\n",
       "      <th>Date</th>\n",
       "      <th></th>\n",
       "      <th></th>\n",
       "      <th></th>\n",
       "      <th></th>\n",
       "      <th></th>\n",
       "      <th></th>\n",
       "    </tr>\n",
       "  </thead>\n",
       "  <tbody>\n",
       "    <tr>\n",
       "      <th>2001-04-25</th>\n",
       "      <td>20621</td>\n",
       "      <td>20621</td>\n",
       "      <td>17563</td>\n",
       "      <td>18489</td>\n",
       "      <td>3094940</td>\n",
       "      <td>NaN</td>\n",
       "    </tr>\n",
       "    <tr>\n",
       "      <th>2001-04-26</th>\n",
       "      <td>17918</td>\n",
       "      <td>18416</td>\n",
       "      <td>17492</td>\n",
       "      <td>17636</td>\n",
       "      <td>1197840</td>\n",
       "      <td>-0.046136</td>\n",
       "    </tr>\n",
       "    <tr>\n",
       "      <th>2001-04-27</th>\n",
       "      <td>17280</td>\n",
       "      <td>18204</td>\n",
       "      <td>17066</td>\n",
       "      <td>18062</td>\n",
       "      <td>854340</td>\n",
       "      <td>0.024155</td>\n",
       "    </tr>\n",
       "    <tr>\n",
       "      <th>2001-04-30</th>\n",
       "      <td>17706</td>\n",
       "      <td>18275</td>\n",
       "      <td>17706</td>\n",
       "      <td>18204</td>\n",
       "      <td>803230</td>\n",
       "      <td>0.007862</td>\n",
       "    </tr>\n",
       "    <tr>\n",
       "      <th>2001-05-02</th>\n",
       "      <td>18345</td>\n",
       "      <td>18843</td>\n",
       "      <td>17990</td>\n",
       "      <td>18489</td>\n",
       "      <td>851580</td>\n",
       "      <td>0.015656</td>\n",
       "    </tr>\n",
       "    <tr>\n",
       "      <th>...</th>\n",
       "      <td>...</td>\n",
       "      <td>...</td>\n",
       "      <td>...</td>\n",
       "      <td>...</td>\n",
       "      <td>...</td>\n",
       "      <td>...</td>\n",
       "    </tr>\n",
       "    <tr>\n",
       "      <th>2021-01-18</th>\n",
       "      <td>958000</td>\n",
       "      <td>990000</td>\n",
       "      <td>943000</td>\n",
       "      <td>964000</td>\n",
       "      <td>423917</td>\n",
       "      <td>-0.015322</td>\n",
       "    </tr>\n",
       "    <tr>\n",
       "      <th>2021-01-19</th>\n",
       "      <td>983000</td>\n",
       "      <td>1003000</td>\n",
       "      <td>970000</td>\n",
       "      <td>997000</td>\n",
       "      <td>386045</td>\n",
       "      <td>0.034232</td>\n",
       "    </tr>\n",
       "    <tr>\n",
       "      <th>2021-01-20</th>\n",
       "      <td>1004000</td>\n",
       "      <td>1010000</td>\n",
       "      <td>983000</td>\n",
       "      <td>1000000</td>\n",
       "      <td>360937</td>\n",
       "      <td>0.003009</td>\n",
       "    </tr>\n",
       "    <tr>\n",
       "      <th>2021-01-21</th>\n",
       "      <td>1011000</td>\n",
       "      <td>1019000</td>\n",
       "      <td>988000</td>\n",
       "      <td>988000</td>\n",
       "      <td>364628</td>\n",
       "      <td>-0.012000</td>\n",
       "    </tr>\n",
       "    <tr>\n",
       "      <th>2021-01-22</th>\n",
       "      <td>986000</td>\n",
       "      <td>990000</td>\n",
       "      <td>975000</td>\n",
       "      <td>975000</td>\n",
       "      <td>385932</td>\n",
       "      <td>-0.013158</td>\n",
       "    </tr>\n",
       "  </tbody>\n",
       "</table>\n",
       "<p>4882 rows × 6 columns</p>\n",
       "</div>"
      ],
      "text/plain": [
       "               Open     High     Low    Close   Volume    Change\n",
       "Date                                                            \n",
       "2001-04-25    20621    20621   17563    18489  3094940       NaN\n",
       "2001-04-26    17918    18416   17492    17636  1197840 -0.046136\n",
       "2001-04-27    17280    18204   17066    18062   854340  0.024155\n",
       "2001-04-30    17706    18275   17706    18204   803230  0.007862\n",
       "2001-05-02    18345    18843   17990    18489   851580  0.015656\n",
       "...             ...      ...     ...      ...      ...       ...\n",
       "2021-01-18   958000   990000  943000   964000   423917 -0.015322\n",
       "2021-01-19   983000  1003000  970000   997000   386045  0.034232\n",
       "2021-01-20  1004000  1010000  983000  1000000   360937  0.003009\n",
       "2021-01-21  1011000  1019000  988000   988000   364628 -0.012000\n",
       "2021-01-22   986000   990000  975000   975000   385932 -0.013158\n",
       "\n",
       "[4882 rows x 6 columns]"
      ]
     },
     "execution_count": 52,
     "metadata": {},
     "output_type": "execute_result"
    }
   ],
   "source": [
    "# fdr.DataReader(item_code_by_item_name(\"LG화학\"))"
   ]
  },
  {
   "cell_type": "markdown",
   "metadata": {},
   "source": [
    "## 종목명으로 일별시세를 받아오는 함수 만들기¶"
   ]
  },
  {
   "cell_type": "code",
   "execution_count": 73,
   "metadata": {},
   "outputs": [],
   "source": [
    "# item_code_by_item_name : 종목명으로 종목번호 가져오기\n",
    "# find_item_list : 종목번호로 해당연도 데이터 가져오기\n",
    "# find_item_list는 year 값이 없으면 기본으로 2020년 데이터를 선택\n",
    "\n",
    "def find_item_list(item_name, year=2020):\n",
    "    \"\"\"\n",
    "    종목명을 넘겨주면 일별시세를 반환하는 함수\n",
    "    내부에서 종목명으로 종목코드를 반환하는 함수(item_code_by_item_name)로\n",
    "    종목의 시세를 수집합니다.\n",
    "    \"\"\"\n",
    "    item_code = item_code_by_item_name(item_name)\n",
    "    if item_code:\n",
    "        df_day = fdr.DataReader(item_code,str(year))\n",
    "        return df_day\n",
    "    else:\n",
    "        return False"
   ]
  },
  {
   "cell_type": "code",
   "execution_count": 74,
   "metadata": {},
   "outputs": [
    {
     "data": {
      "text/plain": [
       "False"
      ]
     },
     "execution_count": 74,
     "metadata": {},
     "output_type": "execute_result"
    }
   ],
   "source": [
    "# 위에 함수 year이 적용이 안되는데 str(year) 형식으로 만들어주면 적용됨.\n",
    "find_item_list(\"삼성\")"
   ]
  },
  {
   "cell_type": "markdown",
   "metadata": {},
   "source": [
    "## 종목명으로 일별 시세를 잘 가져오는지 확인하기"
   ]
  },
  {
   "cell_type": "code",
   "execution_count": 75,
   "metadata": {},
   "outputs": [
    {
     "data": {
      "text/html": [
       "<div>\n",
       "<style scoped>\n",
       "    .dataframe tbody tr th:only-of-type {\n",
       "        vertical-align: middle;\n",
       "    }\n",
       "\n",
       "    .dataframe tbody tr th {\n",
       "        vertical-align: top;\n",
       "    }\n",
       "\n",
       "    .dataframe thead th {\n",
       "        text-align: right;\n",
       "    }\n",
       "</style>\n",
       "<table border=\"1\" class=\"dataframe\">\n",
       "  <thead>\n",
       "    <tr style=\"text-align: right;\">\n",
       "      <th></th>\n",
       "      <th>Open</th>\n",
       "      <th>High</th>\n",
       "      <th>Low</th>\n",
       "      <th>Close</th>\n",
       "      <th>Volume</th>\n",
       "      <th>Change</th>\n",
       "    </tr>\n",
       "    <tr>\n",
       "      <th>Date</th>\n",
       "      <th></th>\n",
       "      <th></th>\n",
       "      <th></th>\n",
       "      <th></th>\n",
       "      <th></th>\n",
       "      <th></th>\n",
       "    </tr>\n",
       "  </thead>\n",
       "  <tbody>\n",
       "    <tr>\n",
       "      <th>2020-01-02</th>\n",
       "      <td>321000</td>\n",
       "      <td>321000</td>\n",
       "      <td>313500</td>\n",
       "      <td>314000</td>\n",
       "      <td>139496</td>\n",
       "      <td>-0.011024</td>\n",
       "    </tr>\n",
       "    <tr>\n",
       "      <th>2020-01-03</th>\n",
       "      <td>317000</td>\n",
       "      <td>318500</td>\n",
       "      <td>310500</td>\n",
       "      <td>311000</td>\n",
       "      <td>165030</td>\n",
       "      <td>-0.009554</td>\n",
       "    </tr>\n",
       "    <tr>\n",
       "      <th>2020-01-06</th>\n",
       "      <td>308000</td>\n",
       "      <td>311000</td>\n",
       "      <td>306500</td>\n",
       "      <td>307000</td>\n",
       "      <td>138154</td>\n",
       "      <td>-0.012862</td>\n",
       "    </tr>\n",
       "    <tr>\n",
       "      <th>2020-01-07</th>\n",
       "      <td>306000</td>\n",
       "      <td>313500</td>\n",
       "      <td>305000</td>\n",
       "      <td>311000</td>\n",
       "      <td>133788</td>\n",
       "      <td>0.013029</td>\n",
       "    </tr>\n",
       "    <tr>\n",
       "      <th>2020-01-08</th>\n",
       "      <td>306000</td>\n",
       "      <td>307000</td>\n",
       "      <td>301500</td>\n",
       "      <td>302000</td>\n",
       "      <td>225471</td>\n",
       "      <td>-0.028939</td>\n",
       "    </tr>\n",
       "    <tr>\n",
       "      <th>...</th>\n",
       "      <td>...</td>\n",
       "      <td>...</td>\n",
       "      <td>...</td>\n",
       "      <td>...</td>\n",
       "      <td>...</td>\n",
       "      <td>...</td>\n",
       "    </tr>\n",
       "    <tr>\n",
       "      <th>2021-01-18</th>\n",
       "      <td>958000</td>\n",
       "      <td>990000</td>\n",
       "      <td>943000</td>\n",
       "      <td>964000</td>\n",
       "      <td>423917</td>\n",
       "      <td>-0.015322</td>\n",
       "    </tr>\n",
       "    <tr>\n",
       "      <th>2021-01-19</th>\n",
       "      <td>983000</td>\n",
       "      <td>1003000</td>\n",
       "      <td>970000</td>\n",
       "      <td>997000</td>\n",
       "      <td>386045</td>\n",
       "      <td>0.034232</td>\n",
       "    </tr>\n",
       "    <tr>\n",
       "      <th>2021-01-20</th>\n",
       "      <td>1004000</td>\n",
       "      <td>1010000</td>\n",
       "      <td>983000</td>\n",
       "      <td>1000000</td>\n",
       "      <td>360937</td>\n",
       "      <td>0.003009</td>\n",
       "    </tr>\n",
       "    <tr>\n",
       "      <th>2021-01-21</th>\n",
       "      <td>1011000</td>\n",
       "      <td>1019000</td>\n",
       "      <td>988000</td>\n",
       "      <td>988000</td>\n",
       "      <td>364628</td>\n",
       "      <td>-0.012000</td>\n",
       "    </tr>\n",
       "    <tr>\n",
       "      <th>2021-01-22</th>\n",
       "      <td>986000</td>\n",
       "      <td>990000</td>\n",
       "      <td>975000</td>\n",
       "      <td>975000</td>\n",
       "      <td>385932</td>\n",
       "      <td>-0.013158</td>\n",
       "    </tr>\n",
       "  </tbody>\n",
       "</table>\n",
       "<p>263 rows × 6 columns</p>\n",
       "</div>"
      ],
      "text/plain": [
       "               Open     High     Low    Close  Volume    Change\n",
       "Date                                                           \n",
       "2020-01-02   321000   321000  313500   314000  139496 -0.011024\n",
       "2020-01-03   317000   318500  310500   311000  165030 -0.009554\n",
       "2020-01-06   308000   311000  306500   307000  138154 -0.012862\n",
       "2020-01-07   306000   313500  305000   311000  133788  0.013029\n",
       "2020-01-08   306000   307000  301500   302000  225471 -0.028939\n",
       "...             ...      ...     ...      ...     ...       ...\n",
       "2021-01-18   958000   990000  943000   964000  423917 -0.015322\n",
       "2021-01-19   983000  1003000  970000   997000  386045  0.034232\n",
       "2021-01-20  1004000  1010000  983000  1000000  360937  0.003009\n",
       "2021-01-21  1011000  1019000  988000   988000  364628 -0.012000\n",
       "2021-01-22   986000   990000  975000   975000  385932 -0.013158\n",
       "\n",
       "[263 rows x 6 columns]"
      ]
     },
     "execution_count": 75,
     "metadata": {},
     "output_type": "execute_result"
    }
   ],
   "source": [
    "# LG화학의 데이터를 가져옵니다.\n",
    "find_item_list(\"LG화학\")"
   ]
  },
  {
   "cell_type": "code",
   "execution_count": 78,
   "metadata": {},
   "outputs": [
    {
     "data": {
      "text/html": [
       "<div>\n",
       "<style scoped>\n",
       "    .dataframe tbody tr th:only-of-type {\n",
       "        vertical-align: middle;\n",
       "    }\n",
       "\n",
       "    .dataframe tbody tr th {\n",
       "        vertical-align: top;\n",
       "    }\n",
       "\n",
       "    .dataframe thead th {\n",
       "        text-align: right;\n",
       "    }\n",
       "</style>\n",
       "<table border=\"1\" class=\"dataframe\">\n",
       "  <thead>\n",
       "    <tr style=\"text-align: right;\">\n",
       "      <th></th>\n",
       "      <th>Open</th>\n",
       "      <th>High</th>\n",
       "      <th>Low</th>\n",
       "      <th>Close</th>\n",
       "      <th>Volume</th>\n",
       "      <th>Change</th>\n",
       "    </tr>\n",
       "    <tr>\n",
       "      <th>Date</th>\n",
       "      <th></th>\n",
       "      <th></th>\n",
       "      <th></th>\n",
       "      <th></th>\n",
       "      <th></th>\n",
       "      <th></th>\n",
       "    </tr>\n",
       "  </thead>\n",
       "  <tbody>\n",
       "    <tr>\n",
       "      <th>2020-10-15</th>\n",
       "      <td>270000</td>\n",
       "      <td>351000</td>\n",
       "      <td>253500</td>\n",
       "      <td>258000</td>\n",
       "      <td>6557212</td>\n",
       "      <td>NaN</td>\n",
       "    </tr>\n",
       "    <tr>\n",
       "      <th>2020-10-16</th>\n",
       "      <td>253000</td>\n",
       "      <td>253000</td>\n",
       "      <td>199000</td>\n",
       "      <td>200500</td>\n",
       "      <td>4504395</td>\n",
       "      <td>-0.222868</td>\n",
       "    </tr>\n",
       "    <tr>\n",
       "      <th>2020-10-19</th>\n",
       "      <td>198500</td>\n",
       "      <td>202500</td>\n",
       "      <td>187000</td>\n",
       "      <td>189000</td>\n",
       "      <td>1977996</td>\n",
       "      <td>-0.057357</td>\n",
       "    </tr>\n",
       "    <tr>\n",
       "      <th>2020-10-20</th>\n",
       "      <td>190000</td>\n",
       "      <td>193500</td>\n",
       "      <td>176000</td>\n",
       "      <td>182500</td>\n",
       "      <td>1811616</td>\n",
       "      <td>-0.034392</td>\n",
       "    </tr>\n",
       "    <tr>\n",
       "      <th>2020-10-21</th>\n",
       "      <td>180500</td>\n",
       "      <td>185500</td>\n",
       "      <td>177000</td>\n",
       "      <td>179000</td>\n",
       "      <td>1658643</td>\n",
       "      <td>-0.019178</td>\n",
       "    </tr>\n",
       "    <tr>\n",
       "      <th>...</th>\n",
       "      <td>...</td>\n",
       "      <td>...</td>\n",
       "      <td>...</td>\n",
       "      <td>...</td>\n",
       "      <td>...</td>\n",
       "      <td>...</td>\n",
       "    </tr>\n",
       "    <tr>\n",
       "      <th>2021-01-18</th>\n",
       "      <td>156000</td>\n",
       "      <td>168500</td>\n",
       "      <td>154500</td>\n",
       "      <td>165500</td>\n",
       "      <td>630687</td>\n",
       "      <td>0.054140</td>\n",
       "    </tr>\n",
       "    <tr>\n",
       "      <th>2021-01-19</th>\n",
       "      <td>168000</td>\n",
       "      <td>174500</td>\n",
       "      <td>167000</td>\n",
       "      <td>173500</td>\n",
       "      <td>459733</td>\n",
       "      <td>0.048338</td>\n",
       "    </tr>\n",
       "    <tr>\n",
       "      <th>2021-01-20</th>\n",
       "      <td>174000</td>\n",
       "      <td>177000</td>\n",
       "      <td>169000</td>\n",
       "      <td>176000</td>\n",
       "      <td>423998</td>\n",
       "      <td>0.014409</td>\n",
       "    </tr>\n",
       "    <tr>\n",
       "      <th>2021-01-21</th>\n",
       "      <td>178000</td>\n",
       "      <td>178000</td>\n",
       "      <td>173000</td>\n",
       "      <td>173000</td>\n",
       "      <td>242491</td>\n",
       "      <td>-0.017045</td>\n",
       "    </tr>\n",
       "    <tr>\n",
       "      <th>2021-01-22</th>\n",
       "      <td>173000</td>\n",
       "      <td>198000</td>\n",
       "      <td>171500</td>\n",
       "      <td>192500</td>\n",
       "      <td>2202384</td>\n",
       "      <td>0.112717</td>\n",
       "    </tr>\n",
       "  </tbody>\n",
       "</table>\n",
       "<p>69 rows × 6 columns</p>\n",
       "</div>"
      ],
      "text/plain": [
       "              Open    High     Low   Close   Volume    Change\n",
       "Date                                                         \n",
       "2020-10-15  270000  351000  253500  258000  6557212       NaN\n",
       "2020-10-16  253000  253000  199000  200500  4504395 -0.222868\n",
       "2020-10-19  198500  202500  187000  189000  1977996 -0.057357\n",
       "2020-10-20  190000  193500  176000  182500  1811616 -0.034392\n",
       "2020-10-21  180500  185500  177000  179000  1658643 -0.019178\n",
       "...            ...     ...     ...     ...      ...       ...\n",
       "2021-01-18  156000  168500  154500  165500   630687  0.054140\n",
       "2021-01-19  168000  174500  167000  173500   459733  0.048338\n",
       "2021-01-20  174000  177000  169000  176000   423998  0.014409\n",
       "2021-01-21  178000  178000  173000  173000   242491 -0.017045\n",
       "2021-01-22  173000  198000  171500  192500  2202384  0.112717\n",
       "\n",
       "[69 rows x 6 columns]"
      ]
     },
     "execution_count": 78,
     "metadata": {},
     "output_type": "execute_result"
    }
   ],
   "source": [
    "# 빅히트의 데이터를 가져옵니다.\n",
    "# stock_daily 변수에 담습니다.\n",
    "stock_daily = find_item_list(\"빅히트\")\n",
    "stock_daily"
   ]
  },
  {
   "cell_type": "markdown",
   "metadata": {},
   "source": [
    "## 개별종목 시세 시각화\n",
    "### pandas 의 plot으로 시각화 하기"
   ]
  },
  {
   "cell_type": "code",
   "execution_count": 80,
   "metadata": {},
   "outputs": [
    {
     "data": {
      "text/plain": [
       "<matplotlib.axes._subplots.AxesSubplot at 0x205516b5ca0>"
      ]
     },
     "execution_count": 80,
     "metadata": {},
     "output_type": "execute_result"
    },
    {
     "data": {
      "image/png": "[encoded data removed]",
      "text/plain": [
       "<Figure size 432x288 with 1 Axes>"
      ]
     },
     "metadata": {
      "needs_background": "light"
     },
     "output_type": "display_data"
    }
   ],
   "source": [
    "# stock_daily 변수에 할당된 수집된 데이터의 종가 그래프를 그립니다.\n",
    "stock_daily[\"Close\"].plot()"
   ]
  },
  {
   "cell_type": "code",
   "execution_count": 81,
   "metadata": {},
   "outputs": [
    {
     "data": {
      "text/plain": [
       "<matplotlib.axes._subplots.AxesSubplot at 0x205516d6a00>"
      ]
     },
     "execution_count": 81,
     "metadata": {},
     "output_type": "execute_result"
    },
    {
     "data": {
      "image/png": "[encoded data removed]",
      "text/plain": [
       "<Figure size 432x288 with 1 Axes>"
      ]
     },
     "metadata": {
      "needs_background": "light"
     },
     "output_type": "display_data"
    }
   ],
   "source": [
    "# 전체 데이터프레임을 plot() 으로 시각화 하면 수치 데이터 전체를 선그래프로 그립니다.\n",
    "stock_daily.plot()"
   ]
  },
  {
   "cell_type": "markdown",
   "metadata": {},
   "source": [
    "## 서브플롯 그리기"
   ]
  },
  {
   "cell_type": "code",
   "execution_count": 86,
   "metadata": {},
   "outputs": [
    {
     "data": {
      "image/png": "[encoded data removed]",
      "text/plain": [
       "<Figure size 720x576 with 6 Axes>"
      ]
     },
     "metadata": {
      "needs_background": "light"
     },
     "output_type": "display_data"
    }
   ],
   "source": [
    "# 수집한 종목의 선그래프를 Pandas 로 그립니다.\n",
    "# 스케일이 다르기 때문에 subplots를 사용해 그려봅니다.\n",
    "g = stock_daily.plot(subplots=True,figsize=(10,8))"
   ]
  },
  {
   "cell_type": "code",
   "execution_count": 90,
   "metadata": {},
   "outputs": [
    {
     "data": {
      "image/png": "[encoded data removed]",
      "text/plain": [
       "<Figure size 720x576 with 6 Axes>"
      ]
     },
     "metadata": {
      "needs_background": "light"
     },
     "output_type": "display_data"
    }
   ],
   "source": [
    "# 히스토그램 그리기\n",
    "# 변수를 담아주는 이유는 로그 값을 안보려고\n",
    "# bin 빈도수 의미 (막대의개수)\n",
    "h = stock_daily.hist(figsize=(10,8),bins=20)"
   ]
  },
  {
   "cell_type": "markdown",
   "metadata": {},
   "source": [
    "## 2축 그래프 그리기"
   ]
  },
  {
   "cell_type": "code",
   "execution_count": 93,
   "metadata": {},
   "outputs": [
    {
     "data": {
      "text/plain": [
       "<matplotlib.axes._subplots.AxesSubplot at 0x205544e29d0>"
      ]
     },
     "execution_count": 93,
     "metadata": {},
     "output_type": "execute_result"
    },
    {
     "data": {
      "image/png": "[encoded data removed]",
      "text/plain": [
       "<Figure size 432x288 with 2 Axes>"
      ]
     },
     "metadata": {
      "needs_background": "light"
     },
     "output_type": "display_data"
    }
   ],
   "source": [
    "# secondary_y 옵션을 통한 종가와 거래량에 대한 2축 그래프 그리기\n",
    "stock_daily[[\"Close\",\"Volume\"]].plot(secondary_y=\"Volume\")"
   ]
  },
  {
   "cell_type": "markdown",
   "metadata": {},
   "source": [
    "## 과학적 기수법\n",
    "- 참고 : E notation 과학적 기수법 - 위키백과, 우리 모두의 백과사전\n",
    "\n",
    "과학적 기수법, 과학적 표기법(scientific notation, scientific form, standard index form, standard form)은 너무 크거나 너무 작은 숫자들을 십진법으로 편하게 작성하여 표현하는 방법이다. 과학자, 수학자, 공학자들이 공통적으로 사용하는데, 부분적인 이유는 특정한 산술을 단순화시켜 주기 때문이다. 과학 계산기에서는 \"SCI\" 디스플레이 모드라는 이름으로 알려져 있다."
   ]
  },
  {
   "cell_type": "code",
   "execution_count": null,
   "metadata": {},
   "outputs": [],
   "source": []
  },
  {
   "cell_type": "code",
   "execution_count": null,
   "metadata": {},
   "outputs": [],
   "source": []
  },
  {
   "cell_type": "code",
   "execution_count": null,
   "metadata": {},
   "outputs": [],
   "source": []
  },
  {
   "cell_type": "code",
   "execution_count": null,
   "metadata": {},
   "outputs": [],
   "source": []
  },
  {
   "cell_type": "code",
   "execution_count": null,
   "metadata": {},
   "outputs": [],
   "source": []
  },
  {
   "cell_type": "code",
   "execution_count": null,
   "metadata": {},
   "outputs": [],
   "source": []
  },
  {
   "cell_type": "code",
   "execution_count": null,
   "metadata": {},
   "outputs": [],
   "source": []
  },
  {
   "cell_type": "code",
   "execution_count": null,
   "metadata": {},
   "outputs": [],
   "source": []
  },
  {
   "cell_type": "code",
   "execution_count": null,
   "metadata": {},
   "outputs": [],
   "source": []
  },
  {
   "cell_type": "code",
   "execution_count": null,
   "metadata": {},
   "outputs": [],
   "source": []
  }
 ],
 "metadata": {
  "kernelspec": {
   "display_name": "Python 3",
   "language": "python",
   "name": "python3"
  },
  "language_info": {
   "codemirror_mode": {
    "name": "ipython",
    "version": 3
   },
   "file_extension": ".py",
   "mimetype": "text/x-python",
   "name": "python",
   "nbconvert_exporter": "python",
   "pygments_lexer": "ipython3",
   "version": "3.8.3"
  }
 },
 "nbformat": 4,
 "nbformat_minor": 4
}
